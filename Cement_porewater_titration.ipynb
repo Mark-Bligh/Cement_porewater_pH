{
 "cells": [
  {
   "cell_type": "code",
   "execution_count": 75,
   "id": "2ddd579f",
   "metadata": {},
   "outputs": [],
   "source": [
    "import pandas as pd\n",
    "from scipy.optimize import minimize_scalar\n",
    "from pathlib import Path\n",
    "from phreeqpython import PhreeqPython"
   ]
  },
  {
   "cell_type": "code",
   "execution_count": 76,
   "id": "4e083543",
   "metadata": {},
   "outputs": [],
   "source": [
    "\"\"\"\n",
    "Create new PhreeqPython instance.\n",
    "\n",
    "Include the argument for the location of the database file. In this case the CEMDATA18** database has been modified to utilize \n",
    "the Pitzer model for ion interactions since high ionic strength is encountered when Na2SO4 is added as a slag activator. This \n",
    "database has been included in repo.\n",
    "\n",
    "**Lothenbach, B. et al., Cemdata18: a chemical thermodynamic database for hydrated Portland cements and \n",
    "alkali-activated materials, Cem. Concr. Res. 115 (2019) 472–506\n",
    "\"\"\"\n",
    "\n",
    "pp = PhreeqPython(\"CEMDATA18_Pitz_v1.dat\", \n",
    "                  Path(r\"Path-to-database-file\"))"
   ]
  },
  {
   "attachments": {
    "image.png": {
     "image/png": "[encoded data removed]"
    }
   },
   "cell_type": "markdown",
   "id": "3816812f",
   "metadata": {},
   "source": [
    "#### Read data for porewater elemental analysis as CSV file\n",
    "##### Data should be structured for input as Phreeqc, for example:\n",
    "![image.png](attachment:image.png)\n",
    "**Note that the pH value is arbitrary at this stage"
   ]
  },
  {
   "cell_type": "code",
   "execution_count": 77,
   "id": "22a57f0b",
   "metadata": {},
   "outputs": [],
   "source": [
    "lab_dat = pd.read_csv(r\"CSV-file-path\", \n",
    "                      header=None)"
   ]
  },
  {
   "cell_type": "code",
   "execution_count": 78,
   "id": "1ac9df17",
   "metadata": {},
   "outputs": [],
   "source": [
    "\"\"\"\n",
    "Convert the dataframe to a dictionary\n",
    "\"\"\"\n",
    "\n",
    "lab_dict = dict(zip(lab_dat[0], lab_dat[1]))"
   ]
  },
  {
   "cell_type": "code",
   "execution_count": 79,
   "id": "e64d642d",
   "metadata": {},
   "outputs": [],
   "source": [
    "\"\"\"\n",
    "Input an estimated pH value. \n",
    "\"\"\"\n",
    "\n",
    "lab_dict['pH'] = str(13.5)"
   ]
  },
  {
   "cell_type": "code",
   "execution_count": 80,
   "id": "1bc06e07",
   "metadata": {},
   "outputs": [],
   "source": [
    "\"\"\"\n",
    "Input the OH- equivalent to the alkalinity titration (M), ie. equal to moles of H+ neutralized in titration.\n",
    "\"\"\"\n",
    "oh = 9.73e-2"
   ]
  },
  {
   "cell_type": "code",
   "execution_count": 81,
   "id": "a7eaf79b",
   "metadata": {},
   "outputs": [],
   "source": [
    "def alk_titration(lab_dict):\n",
    "   \n",
    "    \"\"\"\n",
    "    Function that peforms the virtual alkalinity titration using the pp.change_pH() function, which adds HCl for acidification.\n",
    "    The amount of HCl added is calculated from the change in Cl concentration.\n",
    "    \n",
    "    Inputs the dictionary lab_dict containing a Phreeqc SOLUTION format\n",
    "    Returns the total alkalinity determined from virtual titration.\n",
    "    \"\"\"\n",
    "    \n",
    "    sol_lab = pp.add_solution(lab_dict)\n",
    "    sol_init = sol_lab.copy()\n",
    "    sol_tit = sol_lab.change_ph(4.5)\n",
    "    alk_tit = sol_tit.total('Cl', units='mol') - sol_init.total('Cl', units='mol')\n",
    "    \n",
    "    return alk_tit "
   ]
  },
  {
   "cell_type": "code",
   "execution_count": 82,
   "id": "5ccae65e",
   "metadata": {},
   "outputs": [],
   "source": [
    "def ph_to_alk(ph):\n",
    "    \n",
    "    \"\"\"\n",
    "    Function that takes pH as an argument and performs virtual alkalinity titration using the alk_titration function.\n",
    "    \n",
    "    Inputs pH.\n",
    "    Returns the total alkalinity value for the input pH.\n",
    "    \"\"\"\n",
    "    \n",
    "    lab_dict['pH'] = str(ph)\n",
    "    alk_ph = alk_titration(lab_dict)\n",
    "    \n",
    "    return alk_ph"
   ]
  },
  {
   "cell_type": "code",
   "execution_count": 83,
   "id": "00c7b3a6",
   "metadata": {},
   "outputs": [
    {
     "name": "stdout",
     "output_type": "stream",
     "text": [
      "pH of solution is  12.865\n"
     ]
    }
   ],
   "source": [
    "\"\"\"\n",
    "Lambda function with pH as input, that returns the difference between the total alkalinities from the virtual and \n",
    "actual titrations, is minimised, giving the pH value of the solution.\n",
    "\"\"\"\n",
    "\n",
    "bounds = (12, 14)\n",
    "func  = lambda x: abs(ph_to_alk(x)-oh)\n",
    "res = minimize_scalar(func, bounds=bounds)\n",
    "lab_dict['pH'] = str(round(res.x, 3))\n",
    "\n",
    "print(\"pH of solution is \", round(res.x, 3))"
   ]
  }
 ],
 "metadata": {
  "kernelspec": {
   "display_name": "Python 3 (ipykernel)",
   "language": "python",
   "name": "python3"
  },
  "language_info": {
   "codemirror_mode": {
    "name": "ipython",
    "version": 3
   },
   "file_extension": ".py",
   "mimetype": "text/x-python",
   "name": "python",
   "nbconvert_exporter": "python",
   "pygments_lexer": "ipython3",
   "version": "3.10.8"
  }
 },
 "nbformat": 4,
 "nbformat_minor": 5
}
